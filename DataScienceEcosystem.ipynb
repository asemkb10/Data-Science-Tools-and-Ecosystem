{
  "metadata": {
    "kernelspec": {
      "name": "python",
      "display_name": "Python (Pyodide)",
      "language": "python"
    },
    "language_info": {
      "codemirror_mode": {
        "name": "python",
        "version": 3
      },
      "file_extension": ".py",
      "mimetype": "text/x-python",
      "name": "python",
      "nbconvert_exporter": "python",
      "pygments_lexer": "ipython3",
      "version": "3.8"
    }
  },
  "nbformat_minor": 5,
  "nbformat": 4,
  "cells": [
    {
      "id": "dafdcd2a-2661-450b-a55a-9376a9ae85a5",
      "cell_type": "markdown",
      "source": "# Data Science Tools and Ecosystem #",
      "metadata": {}
    },
    {
      "id": "844e4f0f-4cf4-460c-94ac-60db3db92142",
      "cell_type": "markdown",
      "source": "In this notebook, Data Science Tools and Ecosystem are summarized.",
      "metadata": {}
    },
    {
      "id": "3baf853f-f749-4fcd-a5ba-78a39d2f0a68",
      "cell_type": "markdown",
      "source": "Some of the popular languages that Data Scientists use are:\n\n1. Python\n2. R\n3. SQL\n4. Julia\n5. Scala",
      "metadata": {}
    },
    {
      "id": "13c30416-36cd-43af-89a6-f1bee072c8a9",
      "cell_type": "markdown",
      "source": "Some of the commonly used libraries used by Data Scientists include:\n\n1. NumPy\n2. pandas\n3. Matplotlib\n4. scikit-learn\n5. TensorFlow",
      "metadata": {}
    },
    {
      "id": "7b6a5f4f-d87f-4df8-b1d1-a808836c48d4",
      "cell_type": "markdown",
      "source": "| Data Science Tools |\n|--------------------|\n|Jupyter Notebook  |\n|RStudio|\n|Apache Zeppelin |\n\n",
      "metadata": {}
    },
    {
      "id": "d56df756-d074-4413-9026-b470faf209a5",
      "cell_type": "markdown",
      "source": "### Below are a few examples of evaluating arithmetic expressions in Python.",
      "metadata": {}
    },
    {
      "id": "b392d7da-fdc4-4986-964d-e9036f2c48a7",
      "cell_type": "markdown",
      "source": " This a simple arithmetic expression to mutiply then add integers",
      "metadata": {}
    },
    {
      "id": "e25fd954-8a0e-464c-934e-5713d0e24331",
      "cell_type": "code",
      "source": "evaluate = (3*4)+5",
      "metadata": {
        "trusted": true
      },
      "outputs": [],
      "execution_count": 7
    },
    {
      "id": "b66167db-610c-48b4-bbba-b339a61faf7c",
      "cell_type": "code",
      "source": "evaluate",
      "metadata": {
        "trusted": true
      },
      "outputs": [
        {
          "execution_count": 8,
          "output_type": "execute_result",
          "data": {
            "text/plain": "17"
          },
          "metadata": {}
        }
      ],
      "execution_count": 8
    },
    {
      "id": "cdcc97aa-3beb-4738-a0b7-5328f9e247d7",
      "cell_type": "markdown",
      "source": "This will convert 200 minutes to hours by diving by 60",
      "metadata": {}
    },
    {
      "id": "30f69d5a-01a9-4ea9-8879-89f4157c444c",
      "cell_type": "code",
      "source": "minutes =200",
      "metadata": {
        "trusted": true
      },
      "outputs": [],
      "execution_count": 11
    },
    {
      "id": "3461059a-d791-4ab5-9da8-523c8b603e4d",
      "cell_type": "code",
      "source": "Hours = 60",
      "metadata": {
        "trusted": true
      },
      "outputs": [],
      "execution_count": 12
    },
    {
      "id": "f47be35e-6364-45b2-bb35-4334033e0efe",
      "cell_type": "code",
      "source": "convert = minutes / Hours",
      "metadata": {
        "trusted": true
      },
      "outputs": [],
      "execution_count": 13
    },
    {
      "id": "9226fd1c-ee7e-476e-bc1a-0b1e913b7c9d",
      "cell_type": "code",
      "source": "convert",
      "metadata": {
        "trusted": true
      },
      "outputs": [
        {
          "execution_count": 14,
          "output_type": "execute_result",
          "data": {
            "text/plain": "3.3333333333333335"
          },
          "metadata": {}
        }
      ],
      "execution_count": 14
    },
    {
      "id": "6674bfcb-ba29-4197-99d6-149bc1aa4b69",
      "cell_type": "markdown",
      "source": "**Objectives:**\n\n- List popular languages for Data Science  \n- List commonly used libraries in Data Science  \n- Create a table of Data Science tools  \n- Demonstrate basic arithmetic operations in Python  \n- Explore markdown formatting techniques in Jupyter Notebooks ",
      "metadata": {}
    },
    {
      "id": "128cc1bf-953b-4383-9c43-2520aece2b37",
      "cell_type": "markdown",
      "source": "## Author\nASEM KHALED",
      "metadata": {}
    },
    {
      "id": "e89a8feb-e7db-4390-80a4-87a85dd2eff0",
      "cell_type": "code",
      "source": "",
      "metadata": {
        "trusted": true
      },
      "outputs": [],
      "execution_count": null
    }
  ]
}